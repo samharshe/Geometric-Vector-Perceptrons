{
 "cells": [
  {
   "cell_type": "code",
   "execution_count": 1,
   "metadata": {},
   "outputs": [
    {
     "data": {
      "text/plain": [
       "<torch._C.Generator at 0x1099b4f10>"
      ]
     },
     "execution_count": 1,
     "metadata": {},
     "output_type": "execute_result"
    }
   ],
   "source": [
    "from MiniPAINN import MPAINNBlock, MPAINNPrediction\n",
    "import torch\n",
    "from torch.nn import Embedding, Module, Linear, SiLU, Embedding\n",
    "from torch_geometric.nn import global_add_pool\n",
    "from torch_geometric.nn.conv import MessagePassing\n",
    "from train import mini_train\n",
    "from utils import get_mini_dataloader, get_molecule, get_random_roto_reflection_translation, E3_transform_molecule, E3_transform_force, plot_molecules, plot_molecules_with_forces, bessel_rbf, cosine_cutoff\n",
    "\n",
    "torch.manual_seed(2002)"
   ]
  },
  {
   "cell_type": "code",
   "execution_count": 7,
   "metadata": {},
   "outputs": [],
   "source": [
    "def get_v_0(x):\n",
    "    return x[:int(x.shape[0]*0.75)].view(-1,3,16)[0,:,:]"
   ]
  },
  {
   "cell_type": "code",
   "execution_count": 104,
   "metadata": {},
   "outputs": [
    {
     "name": "stdout",
     "output_type": "stream",
     "text": [
      "Random roto-reflection:\n",
      "\t-0.144  0.833  0.534\n",
      "\t-0.548  0.382 -0.744\n",
      "\t 0.824  0.400 -0.401\n",
      "Random translation:\n",
      "\t   0.0\n",
      "\t   0.0\n",
      "\t   0.0\n"
     ]
    },
    {
     "name": "stderr",
     "output_type": "stream",
     "text": [
      "/usr/local/Caskroom/miniconda/base/envs/GDL/lib/python3.11/site-packages/torch_geometric/data/dataset.py:239: UserWarning: The `pre_transform` argument differs from the one used in the pre-processed version of this dataset. If you want to make use of another pre-processing technique, pass `force_reload=True` explicitly to reload the dataset.\n",
      "  warnings.warn(\n"
     ]
    }
   ],
   "source": [
    "roto_reflection_translation = get_random_roto_reflection_translation()\n",
    "\n",
    "molecule = get_molecule(type='benzene')\n",
    "transformed_molecule = E3_transform_molecule(molecule=molecule, roto_reflection_translation=roto_reflection_translation)"
   ]
  },
  {
   "cell_type": "code",
   "execution_count": 105,
   "metadata": {},
   "outputs": [],
   "source": [
    "model = Model()"
   ]
  },
  {
   "cell_type": "code",
   "execution_count": 106,
   "metadata": {},
   "outputs": [
    {
     "name": "stdout",
     "output_type": "stream",
     "text": [
      "---ORIGINAL---\n",
      "(tensor([[2.5635]], grad_fn=<SumBackward1>), tensor([[-0.0000,  0.2960, -0.0000],\n",
      "        [ 0.2462,  0.1317, -0.0000],\n",
      "        [ 0.2462, -0.1317, -0.0000],\n",
      "        [-0.0000, -0.2960, -0.0000],\n",
      "        [-0.2462, -0.1317, -0.0000],\n",
      "        [-0.2462,  0.1317, -0.0000],\n",
      "        [-0.0000, -0.5222, -0.0000],\n",
      "        [-0.4496, -0.2603, -0.0000],\n",
      "        [-0.4496,  0.2603, -0.0000],\n",
      "        [-0.0000,  0.5222, -0.0000],\n",
      "        [ 0.4496,  0.2603, -0.0000],\n",
      "        [ 0.4496, -0.2603, -0.0000]]))\n",
      "---TRANSFORMED---\n",
      "(tensor([[2.5701]], grad_fn=<SumBackward1>), tensor([[ 0.2445,  0.1009,  0.1049],\n",
      "        [ 0.0756, -0.0736,  0.2698],\n",
      "        [-0.1453, -0.1930,  0.1366],\n",
      "        [-0.2445, -0.1009, -0.1049],\n",
      "        [-0.0756,  0.0736, -0.2698],\n",
      "        [ 0.1453,  0.1930, -0.1366],\n",
      "        [-0.4329, -0.1990, -0.2083],\n",
      "        [-0.1525,  0.1481, -0.4757],\n",
      "        [ 0.2808,  0.3446, -0.2665],\n",
      "        [ 0.4329,  0.1990,  0.2083],\n",
      "        [ 0.1525, -0.1481,  0.4757],\n",
      "        [-0.2808, -0.3446,  0.2665]]))\n"
     ]
    }
   ],
   "source": [
    "print(\"---ORIGINAL---\")\n",
    "print(model(molecule))\n",
    "print(\"---TRANSFORMED---\")\n",
    "print(model(transformed_molecule))"
   ]
  }
 ],
 "metadata": {
  "kernelspec": {
   "display_name": "GDL",
   "language": "python",
   "name": "python3"
  },
  "language_info": {
   "codemirror_mode": {
    "name": "ipython",
    "version": 3
   },
   "file_extension": ".py",
   "mimetype": "text/x-python",
   "name": "python",
   "nbconvert_exporter": "python",
   "pygments_lexer": "ipython3",
   "version": "3.11.9"
  }
 },
 "nbformat": 4,
 "nbformat_minor": 2
}
